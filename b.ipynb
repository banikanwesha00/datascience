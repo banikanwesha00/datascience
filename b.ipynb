{
 "cells": [
  {
   "cell_type": "code",
   "execution_count": 97,
   "metadata": {},
   "outputs": [],
   "source": [
    "import pandas as pd\n",
    "import numpy as np\n",
    "import matplotlib.pyplot as plt\n",
    "import seaborn as sns\n",
    "from pandas import Series,DataFrame\n",
    "\n",
    "loan=pd.read_csv(\"loan.csv\")"
   ]
  },
  {
   "cell_type": "markdown",
   "metadata": {},
   "source": [
    "let us import all this library file and import \"loan.csv\""
   ]
  },
  {
   "cell_type": "code",
   "execution_count": 98,
   "metadata": {},
   "outputs": [
    {
     "name": "stdout",
     "output_type": "stream",
     "text": [
      "(39717, 111)\n"
     ]
    }
   ],
   "source": [
    "print(loan.shape)"
   ]
  },
  {
   "cell_type": "markdown",
   "metadata": {},
   "source": [
    "Hence,The datset consist of 39717 columns and 111 rows"
   ]
  },
  {
   "cell_type": "markdown",
   "metadata": {},
   "source": [
    "let us see the atrributes"
   ]
  },
  {
   "cell_type": "code",
   "execution_count": 99,
   "metadata": {},
   "outputs": [
    {
     "name": "stdout",
     "output_type": "stream",
     "text": [
      "Index(['id', 'member_id', 'loan_amnt', 'funded_amnt', 'funded_amnt_inv',\n",
      "       'term', 'int_rate', 'installment', 'grade', 'sub_grade',\n",
      "       ...\n",
      "       'num_tl_90g_dpd_24m', 'num_tl_op_past_12m', 'pct_tl_nvr_dlq',\n",
      "       'percent_bc_gt_75', 'pub_rec_bankruptcies', 'tax_liens',\n",
      "       'tot_hi_cred_lim', 'total_bal_ex_mort', 'total_bc_limit',\n",
      "       'total_il_high_credit_limit'],\n",
      "      dtype='object', length=111)\n"
     ]
    }
   ],
   "source": [
    "print(loan.columns)"
   ]
  },
  {
   "cell_type": "markdown",
   "metadata": {},
   "source": [
    "Let remove all the columns where all the values are null"
   ]
  },
  {
   "cell_type": "code",
   "execution_count": 100,
   "metadata": {},
   "outputs": [],
   "source": [
    "loan.dropna(axis=1,how='all',inplace=True)"
   ]
  },
  {
   "cell_type": "code",
   "execution_count": 101,
   "metadata": {},
   "outputs": [
    {
     "name": "stdout",
     "output_type": "stream",
     "text": [
      "after removing the columns,where all the values in the column are missings (39717, 57)\n"
     ]
    }
   ],
   "source": [
    "print(\"after removing the columns,where all the values in the column are missings\",loan.shape)"
   ]
  },
  {
   "cell_type": "markdown",
   "metadata": {},
   "source": [
    "Let count the number of missing values in each attribute"
   ]
  },
  {
   "cell_type": "code",
   "execution_count": 102,
   "metadata": {},
   "outputs": [
    {
     "name": "stdout",
     "output_type": "stream",
     "text": [
      "numnber of missing values present in each column\n",
      "id                                0\n",
      "member_id                         0\n",
      "loan_amnt                         0\n",
      "funded_amnt                       0\n",
      "funded_amnt_inv                   0\n",
      "term                              0\n",
      "int_rate                          0\n",
      "installment                       0\n",
      "grade                             0\n",
      "sub_grade                         0\n",
      "emp_title                      2459\n",
      "emp_length                     1075\n",
      "home_ownership                    0\n",
      "annual_inc                        0\n",
      "verification_status               0\n",
      "issue_d                           0\n",
      "loan_status                       0\n",
      "pymnt_plan                        0\n",
      "url                               0\n",
      "desc                          12940\n",
      "purpose                           0\n",
      "title                            11\n",
      "zip_code                          0\n",
      "addr_state                        0\n",
      "dti                               0\n",
      "delinq_2yrs                       0\n",
      "earliest_cr_line                  0\n",
      "inq_last_6mths                    0\n",
      "mths_since_last_delinq        25682\n",
      "mths_since_last_record        36931\n",
      "open_acc                          0\n",
      "pub_rec                           0\n",
      "revol_bal                         0\n",
      "revol_util                       50\n",
      "total_acc                         0\n",
      "initial_list_status               0\n",
      "out_prncp                         0\n",
      "out_prncp_inv                     0\n",
      "total_pymnt                       0\n",
      "total_pymnt_inv                   0\n",
      "total_rec_prncp                   0\n",
      "total_rec_int                     0\n",
      "total_rec_late_fee                0\n",
      "recoveries                        0\n",
      "collection_recovery_fee           0\n",
      "last_pymnt_d                     71\n",
      "last_pymnt_amnt                   0\n",
      "next_pymnt_d                  38577\n",
      "last_credit_pull_d                2\n",
      "collections_12_mths_ex_med       56\n",
      "policy_code                       0\n",
      "application_type                  0\n",
      "acc_now_delinq                    0\n",
      "chargeoff_within_12_mths         56\n",
      "delinq_amnt                       0\n",
      "pub_rec_bankruptcies            697\n",
      "tax_liens                        39\n",
      "dtype: int64\n"
     ]
    }
   ],
   "source": [
    "NA_col = loan.isnull().sum()\n",
    "print(\"numnber of missing values present in each column\")\n",
    "print(NA_col)"
   ]
  },
  {
   "cell_type": "code",
   "execution_count": 103,
   "metadata": {},
   "outputs": [],
   "source": [
    "trash=(80*len(loan))/100\n",
    "\n",
    "loan.dropna(thresh=trash,axis=1,inplace=True)"
   ]
  },
  {
   "cell_type": "code",
   "execution_count": 104,
   "metadata": {},
   "outputs": [
    {
     "name": "stdout",
     "output_type": "stream",
     "text": [
      "after removing column which have 80 % null value,we have (39717, 53)\n"
     ]
    }
   ],
   "source": [
    "print(\"after removing column which have 80 % null value,we have\",loan.shape)"
   ]
  },
  {
   "cell_type": "code",
   "execution_count": 105,
   "metadata": {},
   "outputs": [],
   "source": [
    "loan.drop_duplicates( keep='first', inplace=True)"
   ]
  },
  {
   "cell_type": "code",
   "execution_count": 106,
   "metadata": {},
   "outputs": [
    {
     "name": "stdout",
     "output_type": "stream",
     "text": [
      "(39717, 53)\n"
     ]
    }
   ],
   "source": [
    "print(loan.shape)"
   ]
  },
  {
   "cell_type": "markdown",
   "metadata": {
    "scrolled": true
   },
   "source": [
    "#lets remove irrelevant columnslumns from first 10 columns\n",
    "#lets see first 10 columns"
   ]
  },
  {
   "cell_type": "code",
   "execution_count": 107,
   "metadata": {},
   "outputs": [
    {
     "name": "stdout",
     "output_type": "stream",
     "text": [
      "Index(['id', 'member_id', 'loan_amnt', 'funded_amnt', 'funded_amnt_inv',\n",
      "       'term', 'int_rate', 'installment', 'grade', 'sub_grade'],\n",
      "      dtype='object')\n"
     ]
    }
   ],
   "source": [
    "print(loan.columns[:10])"
   ]
  },
  {
   "cell_type": "markdown",
   "metadata": {},
   "source": [
    "#id & member_id are of no use\n",
    "#funded_amt & funded)_amt_inv leaks information about future\n",
    "#grade & sub_grade are redundant columns.we will take sub_grade as it consist of more informaton than grade\n",
    "#lending money calculate interest bassed on subgrade\n"
   ]
  },
  {
   "cell_type": "code",
   "execution_count": null,
   "metadata": {},
   "outputs": [],
   "source": []
  },
  {
   "cell_type": "code",
   "execution_count": 108,
   "metadata": {},
   "outputs": [],
   "source": [
    " loan.drop([ 'id', 'member_id', 'funded_amnt', 'funded_amnt_inv','int_rate' ,'grade'],axis=1,inplace=True)"
   ]
  },
  {
   "cell_type": "code",
   "execution_count": 109,
   "metadata": {},
   "outputs": [
    {
     "name": "stdout",
     "output_type": "stream",
     "text": [
      "Index(['emp_title', 'emp_length', 'home_ownership', 'annual_inc',\n",
      "       'verification_status', 'issue_d', 'loan_status', 'pymnt_plan', 'url',\n",
      "       'purpose'],\n",
      "      dtype='object')\n"
     ]
    }
   ],
   "source": [
    "print(loan.columns[4:14])"
   ]
  },
  {
   "cell_type": "markdown",
   "metadata": {},
   "source": [
    "#emp_title:The job title supplied by the Borrower when applying for the loan. requires other data and a lot of processing to become potentially useful\n",
    "#issu_d: eaks data from the future.\n",
    "#url is irrelevant column\n",
    "#let drop ths columns"
   ]
  },
  {
   "cell_type": "code",
   "execution_count": 110,
   "metadata": {},
   "outputs": [],
   "source": [
    "\n",
    "loan.drop(['emp_title','issue_d','url',],axis=1,inplace=True)"
   ]
  },
  {
   "cell_type": "markdown",
   "metadata": {},
   "source": [
    "#let us examine verification_status &  loan staus columm\"\n",
    "#verification status implies whther the income is verified or not.\n",
    "#it consist of three values:'source_verified','verified,'notverified'\n"
   ]
  },
  {
   "cell_type": "code",
   "execution_count": 111,
   "metadata": {
    "scrolled": false
   },
   "outputs": [
    {
     "name": "stdout",
     "output_type": "stream",
     "text": [
      "0               Verified\n",
      "1        Source Verified\n",
      "2           Not Verified\n",
      "3        Source Verified\n",
      "4        Source Verified\n",
      "5        Source Verified\n",
      "6           Not Verified\n",
      "7        Source Verified\n",
      "8        Source Verified\n",
      "9               Verified\n",
      "10          Not Verified\n",
      "11       Source Verified\n",
      "12       Source Verified\n",
      "13       Source Verified\n",
      "14       Source Verified\n",
      "15          Not Verified\n",
      "16          Not Verified\n",
      "17          Not Verified\n",
      "18              Verified\n",
      "19          Not Verified\n",
      "20              Verified\n",
      "21              Verified\n",
      "22       Source Verified\n",
      "23          Not Verified\n",
      "24          Not Verified\n",
      "25              Verified\n",
      "26          Not Verified\n",
      "27          Not Verified\n",
      "28          Not Verified\n",
      "29       Source Verified\n",
      "              ...       \n",
      "39687       Not Verified\n",
      "39688       Not Verified\n",
      "39689       Not Verified\n",
      "39690       Not Verified\n",
      "39691       Not Verified\n",
      "39692       Not Verified\n",
      "39693       Not Verified\n",
      "39694       Not Verified\n",
      "39695       Not Verified\n",
      "39696       Not Verified\n",
      "39697       Not Verified\n",
      "39698       Not Verified\n",
      "39699       Not Verified\n",
      "39700       Not Verified\n",
      "39701       Not Verified\n",
      "39702       Not Verified\n",
      "39703       Not Verified\n",
      "39704       Not Verified\n",
      "39705       Not Verified\n",
      "39706       Not Verified\n",
      "39707       Not Verified\n",
      "39708       Not Verified\n",
      "39709       Not Verified\n",
      "39710       Not Verified\n",
      "39711       Not Verified\n",
      "39712       Not Verified\n",
      "39713       Not Verified\n",
      "39714       Not Verified\n",
      "39715       Not Verified\n",
      "39716       Not Verified\n",
      "Name: verification_status, Length: 39717, dtype: object\n",
      "0         Fully Paid\n",
      "1        Charged Off\n",
      "2         Fully Paid\n",
      "3         Fully Paid\n",
      "4            Current\n",
      "5         Fully Paid\n",
      "6         Fully Paid\n",
      "7         Fully Paid\n",
      "8        Charged Off\n",
      "9        Charged Off\n",
      "10        Fully Paid\n",
      "11        Fully Paid\n",
      "12       Charged Off\n",
      "13        Fully Paid\n",
      "14       Charged Off\n",
      "15        Fully Paid\n",
      "16        Fully Paid\n",
      "17        Fully Paid\n",
      "18        Fully Paid\n",
      "19        Fully Paid\n",
      "20        Fully Paid\n",
      "21       Charged Off\n",
      "22        Fully Paid\n",
      "23        Fully Paid\n",
      "24       Charged Off\n",
      "25        Fully Paid\n",
      "26       Charged Off\n",
      "27       Charged Off\n",
      "28        Fully Paid\n",
      "29        Fully Paid\n",
      "            ...     \n",
      "39687     Fully Paid\n",
      "39688    Charged Off\n",
      "39689     Fully Paid\n",
      "39690     Fully Paid\n",
      "39691     Fully Paid\n",
      "39692     Fully Paid\n",
      "39693     Fully Paid\n",
      "39694     Fully Paid\n",
      "39695     Fully Paid\n",
      "39696     Fully Paid\n",
      "39697     Fully Paid\n",
      "39698     Fully Paid\n",
      "39699     Fully Paid\n",
      "39700     Fully Paid\n",
      "39701     Fully Paid\n",
      "39702     Fully Paid\n",
      "39703     Fully Paid\n",
      "39704     Fully Paid\n",
      "39705     Fully Paid\n",
      "39706     Fully Paid\n",
      "39707     Fully Paid\n",
      "39708     Fully Paid\n",
      "39709     Fully Paid\n",
      "39710     Fully Paid\n",
      "39711     Fully Paid\n",
      "39712     Fully Paid\n",
      "39713     Fully Paid\n",
      "39714     Fully Paid\n",
      "39715     Fully Paid\n",
      "39716     Fully Paid\n",
      "Name: loan_status, Length: 39717, dtype: object\n"
     ]
    }
   ],
   "source": [
    "print(loan['verification_status'])\n",
    "print(loan['loan_status'])"
   ]
  },
  {
   "cell_type": "markdown",
   "metadata": {},
   "source": [
    "From 'verification_status' & loan_status,it has been seen that in many cases,the customers are aloted with loan without verifying source income.\n",
    "\n"
   ]
  },
  {
   "cell_type": "markdown",
   "metadata": {},
   "source": [
    "let us remove onging current loan"
   ]
  },
  {
   "cell_type": "markdown",
   "metadata": {},
   "source": [
    "As 'source-_verified' is paritial verification of income source ,so we can mark this value as 'not-verified'"
   ]
  },
  {
   "cell_type": "code",
   "execution_count": 112,
   "metadata": {
    "scrolled": true
   },
   "outputs": [],
   "source": [
    "loan['verification_status']=loan['verification_status'].str.replace(\"Source Verified\",\"Not Verified\",case = False) \n",
    "  "
   ]
  },
  {
   "cell_type": "markdown",
   "metadata": {},
   "source": [
    "We marked \"source_verified\" as \"not_verified\".Now we can replace the \"non verified vale with 0\" and \"verification value with 1\""
   ]
  },
  {
   "cell_type": "code",
   "execution_count": 113,
   "metadata": {},
   "outputs": [],
   "source": [
    "loan['verification_status']=loan['verification_status'].str.replace( \"Not Verified\", \"0\",case = False) \n",
    "  "
   ]
  },
  {
   "cell_type": "code",
   "execution_count": 114,
   "metadata": {},
   "outputs": [],
   "source": [
    "loan['verification_status']=loan['verification_status'].str.replace( \"Verified\", \"1\",case = False) "
   ]
  },
  {
   "cell_type": "code",
   "execution_count": 115,
   "metadata": {},
   "outputs": [
    {
     "name": "stdout",
     "output_type": "stream",
     "text": [
      "0    26908\n",
      "1    12809\n",
      "Name: verification_status, dtype: int64\n"
     ]
    }
   ],
   "source": [
    "print(loan[\"verification_status\"].value_counts())"
   ]
  },
  {
   "cell_type": "code",
   "execution_count": 116,
   "metadata": {},
   "outputs": [],
   "source": [
    "loan['loan_status']=loan['loan_status'].str.replace( \"Charged Off\",\"1000\",case = False) "
   ]
  },
  {
   "cell_type": "code",
   "execution_count": 117,
   "metadata": {},
   "outputs": [],
   "source": [
    "loan['loan_status']=loan['loan_status'].str.replace( \"Fully Paid\",\"999\",case = False) "
   ]
  },
  {
   "cell_type": "code",
   "execution_count": 118,
   "metadata": {},
   "outputs": [],
   "source": [
    "loan['loan_status']=loan['loan_status'].str.replace( \"Current\",\"888\",case = False) "
   ]
  },
  {
   "cell_type": "code",
   "execution_count": 119,
   "metadata": {
    "scrolled": true
   },
   "outputs": [
    {
     "name": "stdout",
     "output_type": "stream",
     "text": [
      "999     32950\n",
      "1000     5627\n",
      "888      1140\n",
      "Name: loan_status, dtype: int64\n"
     ]
    }
   ],
   "source": [
    "print(loan['loan_status'].value_counts())"
   ]
  },
  {
   "cell_type": "markdown",
   "metadata": {},
   "source": [
    "Let us find out<how many defaulted cases or charged off case where source income is not verified"
   ]
  },
  {
   "cell_type": "code",
   "execution_count": 120,
   "metadata": {},
   "outputs": [],
   "source": [
    "non_verified_defaulted=0\n",
    "for i in range(0,len(loan)):\n",
    "    if(loan.loan_status[i]=='1000' and loan.verification_status[i]=='0'):\n",
    "              non_verified_defaulted=non_verified_defaulted+1\n",
    "  "
   ]
  },
  {
   "cell_type": "code",
   "execution_count": 121,
   "metadata": {},
   "outputs": [
    {
     "name": "stdout",
     "output_type": "stream",
     "text": [
      "3576\n"
     ]
    }
   ],
   "source": [
    "print(non_verified_defaulted)"
   ]
  },
  {
   "cell_type": "raw",
   "metadata": {},
   "source": [
    "out of 5027 defaulted cases,3576 cases are not verified.THerefore,company need to be very strict on verification of income source"
   ]
  },
  {
   "cell_type": "code",
   "execution_count": 122,
   "metadata": {},
   "outputs": [
    {
     "data": {
      "image/png": "[encoded data removed]",
      "text/plain": [
       "<Figure size 432x288 with 1 Axes>"
      ]
     },
     "metadata": {
      "needs_background": "light"
     },
     "output_type": "display_data"
    }
   ],
   "source": [
    "df=pd.DataFrame({'defaulted_case':['Not_verified','Verified'],'val':[3576,2051]})\n",
    "ax=df.plot.bar(x='defaulted_case',y='val',rot=0)"
   ]
  },
  {
   "cell_type": "markdown",
   "metadata": {},
   "source": [
    "Let us see the column'emp_length' \n",
    "Here we will try to find relationship  betwwen émp_length and loan_amnt"
   ]
  },
  {
   "cell_type": "code",
   "execution_count": 123,
   "metadata": {
    "scrolled": true
   },
   "outputs": [
    {
     "name": "stdout",
     "output_type": "stream",
     "text": [
      "10+ years    8879\n",
      "< 1 year     4583\n",
      "2 years      4388\n",
      "3 years      4095\n",
      "4 years      3436\n",
      "5 years      3282\n",
      "1 year       3240\n",
      "6 years      2229\n",
      "7 years      1773\n",
      "8 years      1479\n",
      "9 years      1258\n",
      "Name: emp_length, dtype: int64\n"
     ]
    }
   ],
   "source": [
    " print(loan['emp_length'].value_counts())"
   ]
  },
  {
   "cell_type": "markdown",
   "metadata": {},
   "source": [
    "Let us replace all the values of < 1 year with value'0'"
   ]
  },
  {
   "cell_type": "code",
   "execution_count": 124,
   "metadata": {},
   "outputs": [],
   "source": [
    "loan['< 1 year']=loan['emp_length'].replace( \"< 1 year\",\"0\",inplace=True)"
   ]
  },
  {
   "cell_type": "code",
   "execution_count": 125,
   "metadata": {},
   "outputs": [
    {
     "data": {
      "text/plain": [
       "500"
      ]
     },
     "execution_count": 125,
     "metadata": {},
     "output_type": "execute_result"
    }
   ],
   "source": [
    "loan.loan_amnt.min()"
   ]
  },
  {
   "cell_type": "code",
   "execution_count": 126,
   "metadata": {},
   "outputs": [
    {
     "data": {
      "text/plain": [
       "35000"
      ]
     },
     "execution_count": 126,
     "metadata": {},
     "output_type": "execute_result"
    }
   ],
   "source": [
    "loan.loan_amnt.max()"
   ]
  },
  {
   "cell_type": "markdown",
   "metadata": {},
   "source": [
    "let us divide the  loan_amnt  into 7 parts :-\n",
    "    if the loan amount is in bettwen:-\n",
    "    1.500 to 5500\n",
    "    2.5501 to 10,500\n",
    "    3.10,501 to 15,501\n",
    "    4.15,502 to 20,501\n",
    "    5.20,502 to 25,502\n",
    "    6.25,503 to 30,502\n",
    "    7.30,503 to 35,503\n",
    "    "
   ]
  },
  {
   "cell_type": "markdown",
   "metadata": {},
   "source": [
    "let us find out if emp_length <1 years,\n",
    "1.how much was the loan_amount?\n",
    "2.if they got issued,how many are defaulted?"
   ]
  },
  {
   "cell_type": "code",
   "execution_count": 127,
   "metadata": {},
   "outputs": [
    {
     "name": "stdout",
     "output_type": "stream",
     "text": [
      "1502\n",
      "here  1519 cases are in between rs 5501-10500 and emp_length<1 year\n",
      "here  815 cases are in between rs 10501-15501 and emp_length<1 year\n",
      "here  419 cases are in between rs 15501-205001 and emp_length<1 year\n",
      "here  49 cases are in between rs 25502-30502 and emp_length<1 year\n",
      "here  58 cases are in between rs 30502-35502 and emp_length<1 year\n"
     ]
    }
   ],
   "source": [
    "count=0\n",
    "for i in range(0,len(loan)): \n",
    "        if(loan.emp_length[i]==\"0\" and loan.loan_amnt[i]>=500 and loan.loan_amnt[i]<=5500):\n",
    "                   count=count+1 \n",
    "             #here,we can find,there are 4583 cases where emp_length is less than 1 year.among 4583,1592 cases have loan amount in betwwen 500 t0 5500 \n",
    "print(count)\n",
    "count=0\n",
    "for i in range(0,len(loan)): \n",
    "        if(loan.emp_length[i]==\"0\" and loan.loan_amnt[i]>=5501 and loan.loan_amnt[i]<=10500):\n",
    "                   count=count+1 \n",
    "print(\"here \",count, \"cases are in between rs 5501-10500 and emp_length<1 year\")\n",
    "count=0\n",
    "for i in range(0,len(loan)): \n",
    "        if(loan.emp_length[i]==\"0\" and loan.loan_amnt[i]>=10501 and loan.loan_amnt[i]<=15501):\n",
    "                   count=count+1 \n",
    "print(\"here \",count, \"cases are in between rs 10501-15501 and emp_length<1 year\")\n",
    "count=0\n",
    "for i in range(0,len(loan)): \n",
    "        if(loan.emp_length[i]==\"0\" and loan.loan_amnt[i]>=15501 and loan.loan_amnt[i]<=20501):\n",
    "                   count=count+1 \n",
    "print(\"here \",count, \"cases are in between rs 15501-205001 and emp_length<1 year\")\n",
    "count=0\n",
    "for i in range(0,len(loan)): \n",
    "        if(loan.emp_length[i]==\"0\" and loan.loan_amnt[i]>=25502 and loan.loan_amnt[i]<=30502):\n",
    "                   count=count+1 \n",
    "print(\"here \",count, \"cases are in between rs 25502-30502 and emp_length<1 year\")\n",
    "\n",
    "count=0\n",
    "for i in range(0,len(loan)): \n",
    "        if(loan.emp_length[i]==\"0\" and loan.loan_amnt[i]>=30502 and loan.loan_amnt[i]<=35502):\n",
    "                   count=count+1 \n",
    "print(\"here \",count, \"cases are in between rs 30502-35502 and emp_length<1 year\")\n",
    "\n",
    "\n",
    "\n"
   ]
  },
  {
   "cell_type": "code",
   "execution_count": 128,
   "metadata": {},
   "outputs": [],
   "source": [
    "count=0\n",
    "for i in range(0,len(loan)): \n",
    "        if(loan.emp_length[i]==\"10+ years\" and loan.loan_amnt[i]>=500 and loan.loan_amnt[i]<=5500):\n",
    "                   count=count+1 "
   ]
  },
  {
   "cell_type": "markdown",
   "metadata": {},
   "source": [
    "let us see ,how many cases are there  whem emp_length is 10+ years"
   ]
  },
  {
   "cell_type": "code",
   "execution_count": 129,
   "metadata": {
    "scrolled": true
   },
   "outputs": [
    {
     "name": "stdout",
     "output_type": "stream",
     "text": [
      "1737\n",
      "here  2483 cases are in between rs 5501-10500 and emp_length 10+ year\n",
      "here  289 cases are in between rs 25502-30502 and emp_length 10+ year\n",
      "here  327 cases are in between rs 30502-35502 and emp_length 10+ year\n"
     ]
    }
   ],
   "source": [
    "print(count)\n",
    "count=0\n",
    "for i in range(0,len(loan)): \n",
    "        if(loan.emp_length[i]==\"10+ years\" and loan.loan_amnt[i]>=5501 and loan.loan_amnt[i]<=10500):\n",
    "                   count=count+1 \n",
    "print(\"here \",count, \"cases are in between rs 5501-10500 and emp_length 10+ year\")\n",
    "count=0\n",
    "for i in range(0,len(loan)): \n",
    "        if(loan.emp_length[i]==\"10+ years\" and loan.loan_amnt[i]>=25502 and loan.loan_amnt[i]<=30502):\n",
    "                   count=count+1 \n",
    "print(\"here \",count, \"cases are in between rs 25502-30502 and emp_length 10+ year\")\n",
    "count=0\n",
    "for i in range(0,len(loan)): \n",
    "        if(loan.emp_length[i]==\"10+ years\" and loan.loan_amnt[i]>=30502 and loan.loan_amnt[i]<=35502):\n",
    "                   count=count+1 \n",
    "print(\"here \",count, \"cases are in between rs 30502-35502 and emp_length 10+ year\")\n",
    "\n"
   ]
  },
  {
   "cell_type": "code",
   "execution_count": 130,
   "metadata": {},
   "outputs": [
    {
     "data": {
      "text/plain": [
       "<matplotlib.legend.Legend at 0x1fd54588d0>"
      ]
     },
     "execution_count": 130,
     "metadata": {},
     "output_type": "execute_result"
    },
    {
     "data": {
      "image/png": "[encoded data removed]",
      "text/plain": [
       "<Figure size 432x288 with 1 Axes>"
      ]
     },
     "metadata": {
      "needs_background": "light"
     },
     "output_type": "display_data"
    }
   ],
   "source": [
    "data = [[1502.,1519., 49., 58.],\n",
    "  [1737., 2483., 289., 327.]\n",
    " ]\n",
    "\n",
    "X = np.arange(4)\n",
    "plt.xticks(X)\n",
    "plt.bar(X + 0.00, data[0], color = 'b', width = 0.25, label= \"less_than_1_year\")\n",
    "plt.bar(X + 0.25, data[1], color = 'g', width = 0.25, label= \"more_than_10+_year\")\n",
    "plt.ylabel('no_of_loan')\n",
    "plt.xlabel('loan_amount')\n",
    "plt.legend()\n",
    "           "
   ]
  },
  {
   "cell_type": "markdown",
   "metadata": {},
   "source": [
    "From above we can say that as emp_length increases chance of getting loan also increaeses.\n",
    "The 'loan_amount'also increases as the experiance increase.\n"
   ]
  },
  {
   "cell_type": "markdown",
   "metadata": {},
   "source": [
    "Let see res of the columns"
   ]
  },
  {
   "cell_type": "code",
   "execution_count": 131,
   "metadata": {},
   "outputs": [
    {
     "name": "stdout",
     "output_type": "stream",
     "text": [
      "(39717, 45)\n"
     ]
    }
   ],
   "source": [
    "print(loan.shape)"
   ]
  },
  {
   "cell_type": "code",
   "execution_count": 132,
   "metadata": {},
   "outputs": [
    {
     "name": "stdout",
     "output_type": "stream",
     "text": [
      "Index(['loan_amnt', 'term', 'installment', 'sub_grade', 'emp_length',\n",
      "       'home_ownership', 'annual_inc', 'verification_status', 'loan_status',\n",
      "       'pymnt_plan', 'purpose', 'title', 'zip_code', 'addr_state', 'dti',\n",
      "       'delinq_2yrs', 'earliest_cr_line', 'inq_last_6mths', 'open_acc',\n",
      "       'pub_rec', 'revol_bal', 'revol_util', 'total_acc',\n",
      "       'initial_list_status', 'out_prncp', 'out_prncp_inv', 'total_pymnt',\n",
      "       'total_pymnt_inv', 'total_rec_prncp', 'total_rec_int',\n",
      "       'total_rec_late_fee', 'recoveries', 'collection_recovery_fee',\n",
      "       'last_pymnt_d', 'last_pymnt_amnt', 'last_credit_pull_d',\n",
      "       'collections_12_mths_ex_med', 'policy_code', 'application_type',\n",
      "       'acc_now_delinq', 'chargeoff_within_12_mths', 'delinq_amnt',\n",
      "       'pub_rec_bankruptcies', 'tax_liens', '< 1 year'],\n",
      "      dtype='object')\n"
     ]
    }
   ],
   "source": [
    "print(loan.columns)"
   ]
  },
  {
   "cell_type": "code",
   "execution_count": 133,
   "metadata": {},
   "outputs": [
    {
     "name": "stdout",
     "output_type": "stream",
     "text": [
      "0     35405\n",
      "1      3303\n",
      "2       687\n",
      "3       220\n",
      "4        62\n",
      "5        22\n",
      "6        10\n",
      "7         4\n",
      "8         2\n",
      "11        1\n",
      "9         1\n",
      "Name: delinq_2yrs, dtype: int64\n"
     ]
    }
   ],
   "source": [
    "print(loan['delinq_2yrs'  ].value_counts())"
   ]
  },
  {
   "cell_type": "code",
   "execution_count": 134,
   "metadata": {},
   "outputs": [
    {
     "name": "stdout",
     "output_type": "stream",
     "text": [
      "15.349682107175294 is the % of total defaulted when delinq_2yrs is 1\n",
      "18.922852983988356 is the % of total defaulted when delinq_2yrs is 2\n",
      "15.909090909090908 is the % of total defaulted when delinq_2yrs is 3\n",
      "20.967741935483872 is the % of total defaulted when delinq_2yrs is 4\n",
      "13.636363636363635 is the % of total defaulted when delinq_2yrs is 5\n",
      "10.0 is the %  ofvtotal defaulted when delinq_2yrs is 6\n",
      "25.0 is the % of total defaulted when delinq_2yrs is 7\n"
     ]
    }
   ],
   "source": [
    "p=0\n",
    "count=0\n",
    "count1=0\n",
    "count2=0\n",
    "count3=0\n",
    "count4=0\n",
    "count5=0\n",
    "count6=0\n",
    "count7=0\n",
    "for i in range(0,len(loan)):\n",
    "    if(loan.loan_status[i]=='1000' and loan.delinq_2yrs[i]==1):\n",
    "        count=count+1\n",
    "    if(loan.loan_status[i]=='1000' and loan.delinq_2yrs[i]==0):\n",
    "        p=p+1\n",
    "            \n",
    " \n",
    "    if( loan.loan_status[i]=='1000' and loan.delinq_2yrs[i]==2):\n",
    "        count1=count1+1\n",
    "    if( loan.loan_status[i]=='1000' and loan.delinq_2yrs[i]==3):\n",
    "        count2=count2+1\n",
    "    if( loan.loan_status[i]=='1000' and loan.delinq_2yrs[i]==4):\n",
    "        count3=count3+1\n",
    "    if( loan.loan_status[i]=='1000' and loan.delinq_2yrs[i]==5): \n",
    "        count4=count4+1\n",
    "    if( loan.loan_status[i]=='1000' and loan.delinq_2yrs[i]==6):\n",
    "         count5=count5+1\n",
    "    if( loan.loan_status[i]=='1000' and loan.delinq_2yrs[i]==7):\n",
    "         count6=count6+1\n",
    "#35495 is the total number of loans having delinq_2_yrs.we have found it earlier\n",
    "print((count/3303)*100 ,\"is the % of total defaulted when delinq_2yrs is 1\" )\n",
    "print((count1/687)*100,\"is the % of total defaulted when delinq_2yrs is 2\" )  \n",
    "print((count2/220)*100 , \"is the % of total defaulted when delinq_2yrs is 3\" )\n",
    "print((count3/62)*100,\"is the % of total defaulted when delinq_2yrs is 4\")\n",
    "print((count4/22)*100,\"is the % of total defaulted when delinq_2yrs is 5\")\n",
    "print((count5/10)*100,\"is the %  ofvtotal defaulted when delinq_2yrs is 6\")\n",
    "print((count6/4)*100,\"is the % of total defaulted when delinq_2yrs is 7\")"
   ]
  },
  {
   "cell_type": "markdown",
   "metadata": {},
   "source": [
    "15%,18%,15%,20%,13%,10%,25% are the percentage by which the loans are dafaulted if the customer is delinq on 1,2,3,4,5,6,7 acoounts respectively."
   ]
  },
  {
   "cell_type": "markdown",
   "metadata": {},
   "source": [
    "Let us plot in the graph"
   ]
  },
  {
   "cell_type": "code",
   "execution_count": 135,
   "metadata": {},
   "outputs": [
    {
     "data": {
      "text/plain": [
       "Text(0, 0.5, 'no_of_loan')"
      ]
     },
     "execution_count": 135,
     "metadata": {},
     "output_type": "execute_result"
    },
    {
     "data": {
      "image/png": "[encoded data removed]",
      "text/plain": [
       "<Figure size 432x288 with 1 Axes>"
      ]
     },
     "metadata": {
      "needs_background": "light"
     },
     "output_type": "display_data"
    }
   ],
   "source": [
    "data = [15,19,16,21,13,10,25]\n",
    " \n",
    "df=pd.DataFrame({'delinq_2year':['1 ','2','3','4','5','6','7'],'val':[15.3,18,15,20,13,10,25]})\n",
    "ax=df.plot.bar(x='delinq_2year',y='val',rot=0)\n",
    "plt.ylabel('no_of_loan')\n"
   ]
  },
  {
   "cell_type": "markdown",
   "metadata": {},
   "source": [
    "FRom the above,we can conclude that as the number of defaulter increases with the incresing deliquent acount but with little percentage."
   ]
  },
  {
   "cell_type": "code",
   "execution_count": null,
   "metadata": {},
   "outputs": [],
   "source": []
  }
 ],
 "metadata": {
  "kernelspec": {
   "display_name": "Python 3",
   "language": "python",
   "name": "python3"
  },
  "language_info": {
   "codemirror_mode": {
    "name": "ipython",
    "version": 3
   },
   "file_extension": ".py",
   "mimetype": "text/x-python",
   "name": "python",
   "nbconvert_exporter": "python",
   "pygments_lexer": "ipython3",
   "version": "3.7.3"
  }
 },
 "nbformat": 4,
 "nbformat_minor": 2
}
